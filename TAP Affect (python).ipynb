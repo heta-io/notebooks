{
 "cells": [
  {
   "cell_type": "markdown",
   "metadata": {},
   "source": [
    "# TAP Affect\n",
    "\n",
    "This notebook was used as part of the [HETA project](http://heta.io) to experiment with [TAP](https://github.com/heta-io/tap) affect thresholds. It makes use of the [TapCliPy](https://github.com/heta-io/tapclipy) python client for TAP to call the `affectExpressions` query.\n",
    "\n",
    "To use this notebook for your own tests, you will need:\n",
    "    1. The URL of your TAP server\n",
    "    2. Save the text files that you want to work with into the same directory as this notebook"
   ]
  },
  {
   "cell_type": "code",
   "execution_count": 208,
   "metadata": {},
   "outputs": [
    {
     "name": "stdout",
     "output_type": "stream",
     "text": [
      "Requirement already satisfied: tapclipy>=0.1.4 in /opt/conda/lib/python3.6/site-packages\n",
      "\u001b[33mYou are using pip version 9.0.1, however version 10.0.1 is available.\n",
      "You should consider upgrading via the 'pip install --upgrade pip' command.\u001b[0m\n"
     ]
    }
   ],
   "source": [
    "# Install the TAP Python Client\n",
    "!pip install 'tapclipy>=0.1.4'"
   ]
  },
  {
   "cell_type": "code",
   "execution_count": 209,
   "metadata": {},
   "outputs": [],
   "source": [
    "# Import the client library\n",
    "from tapclipy import tap_connect"
   ]
  },
  {
   "cell_type": "markdown",
   "metadata": {},
   "source": [
    "### Connect to TAP and retrieve the current schema\n",
    "As TAP exposes a GraphQL API, there can be changes in the schema over time. After connecting to TAP, this schema needs to be loaded into the client."
   ]
  },
  {
   "cell_type": "code",
   "execution_count": null,
   "metadata": {},
   "outputs": [],
   "source": [
    "# Set the url for your TAP server\n",
    "tapURL = 'http://localhost:9000'\n",
    "# Create TAP Connection\n",
    "tap = tap_connect.Connect(tapURL)\n",
    "# Load the Current Schema\n",
    "tap.fetch_schema()"
   ]
  },
  {
   "cell_type": "code",
   "execution_count": 212,
   "metadata": {},
   "outputs": [
    {
     "name": "stdout",
     "output_type": "stream",
     "text": [
      "clean >> StringResult\n",
      "annotations >> SentencesResult\n",
      "vocabulary >> VocabResult\n",
      "metrics >> MetricsResult\n",
      "posStats >> PosStatsResult\n",
      "syllables >> SyllablesResult\n",
      "spelling >> SpellingResult\n",
      "expressions >> ExpressionsResult\n",
      "reflectExpressions >> ReflectExpressionsResult\n",
      "affectExpressions >> AffectExpressionsResult\n",
      "moves >> StringListResult\n"
     ]
    }
   ],
   "source": [
    "#Print out schema fields\n",
    "for query,type in tap.schema_query_name_types().items():\n",
    "    print(\"{} >> {}\".format(query, type))"
   ]
  },
  {
   "cell_type": "markdown",
   "metadata": {},
   "source": [
    "### Setup Query\n",
    "The client includes built in queries. We can either use the client query for `affectExpressions` or we can create our own. If creating from scratch, it wise to use the client query as a template to ensure the query is properly formed."
   ]
  },
  {
   "cell_type": "code",
   "execution_count": 213,
   "metadata": {},
   "outputs": [
    {
     "name": "stdout",
     "output_type": "stream",
     "text": [
      "\n",
      "query AffectExpressions($input:String,$parameters:String) { \n",
      "    affectExpressions(text:$input,parameters:$parameters) { \n",
      "        querytime\n",
      "        message\n",
      "        timestamp\n",
      "        analytics {\n",
      "            affect {\n",
      "                text\n",
      "                valence\n",
      "                arousal\n",
      "                dominance\n",
      "                startIdx\n",
      "            }\n",
      "        }\n",
      "    }}\n",
      "\n"
     ]
    }
   ],
   "source": [
    "# Get query from client\n",
    "query = tap.query('affectExpressions')\n",
    "print(query)"
   ]
  },
  {
   "cell_type": "markdown",
   "metadata": {},
   "source": [
    "### Helper functions\n",
    "\n",
    "To make it easier to run repeated tests on different files, we can setup some helper functions."
   ]
  },
  {
   "cell_type": "code",
   "execution_count": 214,
   "metadata": {},
   "outputs": [],
   "source": [
    "# Open a text file and return it as a string\n",
    "def readFile(filename):\n",
    "    file = open(filename)\n",
    "    text = file.read()\n",
    "    file.close()\n",
    "    return text"
   ]
  },
  {
   "cell_type": "code",
   "execution_count": 218,
   "metadata": {},
   "outputs": [
    {
     "data": {
      "text/plain": [
       "'I am extremely happy to present this amazing text file for analysis. I hope it performs to expectations.'"
      ]
     },
     "execution_count": 218,
     "metadata": {},
     "output_type": "execute_result"
    }
   ],
   "source": [
    "# Test on a file\n",
    "myText = readFile('dummy-affect.txt')\n",
    "myText"
   ]
  },
  {
   "cell_type": "code",
   "execution_count": 225,
   "metadata": {},
   "outputs": [],
   "source": [
    "# Get Affect Analytics from TAP and format the results\n",
    "def textAffect(text,arousal=0.0,valence=0.0,dominance=0.0):\n",
    "    parameters = '{\"valence\":'+str(valence)+',\"arousal\":'+str(arousal)+',\"dominance\":'+str(dominance)+'}'\n",
    "    json = tap.analyse_text(query, text,parameters)\n",
    "    analytics = json['data']['affectExpressions']['analytics']\n",
    "    filtered = [x['affect'] for x in analytics if x['affect']]\n",
    "    flattened = [item for sublist in filtered for item in sublist]\n",
    "    #print(flattened)\n",
    "    numFiltered = len(flattened)\n",
    "    numLexicon = len(analytics)\n",
    "    words = text.split(' ')\n",
    "    numWords = len(words)\n",
    "    percentAffect = numFiltered/numWords*100\n",
    "    print(\"{0} words matched out of {1} total words in the text - {2} percent\".format(numFiltered,numWords,percentAffect))\n",
    "    for t in flattened:\n",
    "        #print(t)\n",
    "        print(t['text'],'\\t[a] ',t['arousal'],' [v] ',t['valence'],' [d] ',t['dominance'])\n",
    "    "
   ]
  },
  {
   "cell_type": "code",
   "execution_count": 226,
   "metadata": {},
   "outputs": [
    {
     "name": "stdout",
     "output_type": "stream",
     "text": [
      "4 words matched out of 18 total words in the text - 22.22222222222222 percent\n",
      "happy \t[a]  6.05  [v]  8.47  [d]  7.21\n",
      "amazing \t[a]  5  [v]  7.24  [d]  5.83\n",
      "hope \t[a]  5.29  [v]  7.48  [d]  6.78\n",
      "performs \t[a]  5.15  [v]  6.48  [d]  5.82\n"
     ]
    }
   ],
   "source": [
    "# Test the function on our text\n",
    "textAffect(myText,arousal=4.95)"
   ]
  },
  {
   "cell_type": "markdown",
   "metadata": {},
   "source": [
    "### Do analysis\n",
    "\n",
    "Load the file, then check the results with different values of `arousal`, `valence`, and `dominance`."
   ]
  },
  {
   "cell_type": "code",
   "execution_count": 227,
   "metadata": {},
   "outputs": [
    {
     "name": "stdout",
     "output_type": "stream",
     "text": [
      "6 words matched out of 18 total words in the text - 33.33333333333333 percent\n",
      "happy \t[a]  6.05  [v]  8.47  [d]  7.21\n",
      "present \t[a]  4.82  [v]  6.85  [d]  6.65\n",
      "amazing \t[a]  5  [v]  7.24  [d]  5.83\n",
      "hope \t[a]  5.29  [v]  7.48  [d]  6.78\n",
      "performs \t[a]  5.15  [v]  6.48  [d]  5.82\n",
      "expectations \t[a]  4.5  [v]  6.1  [d]  5.05\n"
     ]
    }
   ],
   "source": [
    "# Read file\n",
    "text1 = readFile('dummy-affect.txt')\n",
    "# Check values\n",
    "textAffect(text1,arousal=4.0,valence=5.0,dominance=0.0)"
   ]
  },
  {
   "cell_type": "code",
   "execution_count": 228,
   "metadata": {},
   "outputs": [
    {
     "name": "stdout",
     "output_type": "stream",
     "text": [
      "3 words matched out of 18 total words in the text - 16.666666666666664 percent\n",
      "happy \t[a]  6.05  [v]  8.47  [d]  7.21\n",
      "amazing \t[a]  5  [v]  7.24  [d]  5.83\n",
      "hope \t[a]  5.29  [v]  7.48  [d]  6.78\n"
     ]
    }
   ],
   "source": [
    "# Check different values\n",
    "textAffect(text1,arousal=5.0,valence=7.0,dominance=5.0)"
   ]
  },
  {
   "cell_type": "code",
   "execution_count": null,
   "metadata": {},
   "outputs": [],
   "source": []
  }
 ],
 "metadata": {
  "kernelspec": {
   "display_name": "Python 3",
   "language": "python",
   "name": "python3"
  },
  "language_info": {
   "codemirror_mode": {
    "name": "ipython",
    "version": 3
   },
   "file_extension": ".py",
   "mimetype": "text/x-python",
   "name": "python",
   "nbconvert_exporter": "python",
   "pygments_lexer": "ipython3",
   "version": "3.6.4"
  }
 },
 "nbformat": 4,
 "nbformat_minor": 2
}
